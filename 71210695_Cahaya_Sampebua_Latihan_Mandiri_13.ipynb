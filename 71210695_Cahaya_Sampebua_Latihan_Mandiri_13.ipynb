{
  "nbformat": 4,
  "nbformat_minor": 0,
  "metadata": {
    "colab": {
      "provenance": []
    },
    "kernelspec": {
      "name": "python3",
      "display_name": "Python 3"
    },
    "language_info": {
      "name": "python"
    }
  },
  "cells": [
    {
      "cell_type": "code",
      "execution_count": 1,
      "metadata": {
        "colab": {
          "base_uri": "https://localhost:8080/"
        },
        "id": "Rnu5cBom8MEW",
        "outputId": "e30eacd7-0ee5-4368-a801-aa1509ad53c4"
      },
      "outputs": [
        {
          "output_type": "stream",
          "name": "stdout",
          "text": [
            "False\n"
          ]
        }
      ],
      "source": [
        "#Soal 1\n",
        "\n",
        "def cekPrima(n,default=2):\n",
        "    if n == 0 or n == 1:\n",
        "        return False\n",
        "    elif n == 2:\n",
        "        return True\n",
        "\n",
        "    if n % default == 0:\n",
        "        return False\n",
        "\n",
        "    if default * default > n:\n",
        "        return True\n",
        "\n",
        "    return cekPrima(n,default + 1)\n",
        "\n",
        "print(cekPrima(12))"
      ]
    },
    {
      "cell_type": "code",
      "source": [
        "#Soal 2\n",
        "\n",
        "def palindrom(kata, start, end):\n",
        "    if start == end:\n",
        "        return True\n",
        "\n",
        "    if kata[start] != kata[end-1]:\n",
        "        return False\n",
        "\n",
        "    if start < end + 1:\n",
        "        return palindrom(kata,start+1,end-1)\n",
        "\n",
        "    return True\n",
        "\n",
        "kata = \"kasur ini rusak\"\n",
        "start = 0\n",
        "end = len(kata)\n",
        "\n",
        "print(palindrom(kata,start,end))"
      ],
      "metadata": {
        "colab": {
          "base_uri": "https://localhost:8080/"
        },
        "id": "Or1U65y68OST",
        "outputId": "93595697-428f-41a5-b448-d5022637a222"
      },
      "execution_count": 2,
      "outputs": [
        {
          "output_type": "stream",
          "name": "stdout",
          "text": [
            "True\n"
          ]
        }
      ]
    },
    {
      "cell_type": "code",
      "source": [
        "#Soal 3\n",
        "\n",
        "def jumlah_deret(n):\n",
        "    # Base Case\n",
        "    if n == 1:\n",
        "        return 1\n",
        "\n",
        "    # Jika input ganjil\n",
        "    elif n % 2 != 0 and n > 0:\n",
        "        return n + jumlah_deret(n-2)\n",
        "\n",
        "    # Jika input genap\n",
        "    elif n % 2 == 0 and n > 0:\n",
        "        n = n - 1\n",
        "        return jumlah_deret(n)\n",
        "\n",
        "print(jumlah_deret(101))"
      ],
      "metadata": {
        "colab": {
          "base_uri": "https://localhost:8080/"
        },
        "id": "Omkh7YqA8OeY",
        "outputId": "ab11586b-36e9-470a-efd1-0201ee838375"
      },
      "execution_count": 3,
      "outputs": [
        {
          "output_type": "stream",
          "name": "stdout",
          "text": [
            "2601\n"
          ]
        }
      ]
    },
    {
      "cell_type": "code",
      "source": [
        "#Soal 4\n",
        "\n",
        "def jumlahDigit(n):\n",
        "    if n < 10:\n",
        "        return n\n",
        "    else:\n",
        "        kali = n // 10\n",
        "        n = n % (10*(kali))\n",
        "        return n + jumlahDigit(kali)\n",
        "\n",
        "print(jumlahDigit(234))"
      ],
      "metadata": {
        "colab": {
          "base_uri": "https://localhost:8080/"
        },
        "id": "NGOTbqNa8PA1",
        "outputId": "2c76e91e-3cd3-4a4d-bc93-5f404af3508b"
      },
      "execution_count": 11,
      "outputs": [
        {
          "output_type": "stream",
          "name": "stdout",
          "text": [
            "9\n"
          ]
        }
      ]
    },
    {
      "cell_type": "code",
      "source": [
        "#Soal 5\n",
        "\n",
        "def kombinasi(n,r):\n",
        "    if r == 0:\n",
        "        return 1\n",
        "    elif n < r:\n",
        "        return 0\n",
        "    else:\n",
        "        print(r)\n",
        "        return round(((n + 1 - r)/r) * kombinasi(n, r-1))\n",
        "\n",
        "print(kombinasi(14,5))"
      ],
      "metadata": {
        "colab": {
          "base_uri": "https://localhost:8080/"
        },
        "id": "aABlHRi98PFl",
        "outputId": "50e6c202-60db-4f8b-830f-1b32cd3f8d7e"
      },
      "execution_count": 9,
      "outputs": [
        {
          "output_type": "stream",
          "name": "stdout",
          "text": [
            "5\n",
            "4\n",
            "3\n",
            "2\n",
            "1\n",
            "2002\n"
          ]
        }
      ]
    }
  ]
}